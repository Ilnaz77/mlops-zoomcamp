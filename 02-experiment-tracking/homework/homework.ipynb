{
 "cells": [
  {
   "cell_type": "code",
   "execution_count": 40,
   "metadata": {},
   "outputs": [],
   "source": [
    "import mlflow, os\n",
    "\n",
    "from mlflow.entities import ViewType\n",
    "from mlflow.tracking import MlflowClient"
   ]
  },
  {
   "cell_type": "code",
   "execution_count": 2,
   "metadata": {},
   "outputs": [
    {
     "name": "stdout",
     "output_type": "stream",
     "text": [
      "mlflow, version 2.3.2\r\n"
     ]
    }
   ],
   "source": [
    "# Q1\n",
    "!mlflow --version"
   ]
  },
  {
   "cell_type": "code",
   "execution_count": 9,
   "metadata": {},
   "outputs": [
    {
     "name": "stdout",
     "output_type": "stream",
     "text": [
      "152K\t./data/output/dv.pkl\n",
      "153660\n",
      "154 kB\n"
     ]
    }
   ],
   "source": [
    "# Q2\n",
    "!du -sh ./data/output/dv.pkl\n",
    "print(os.path.getsize('./data/output/dv.pkl'))\n",
    "print(\"154 kB\")"
   ]
  },
  {
   "cell_type": "code",
   "execution_count": 10,
   "metadata": {},
   "outputs": [
    {
     "name": "stdout",
     "output_type": "stream",
     "text": [
      "Map depth: 10\n"
     ]
    }
   ],
   "source": [
    "# Q3\n",
    "print(\"Map depth: 10\")"
   ]
  },
  {
   "cell_type": "code",
   "execution_count": 11,
   "metadata": {},
   "outputs": [
    {
     "name": "stdout",
     "output_type": "stream",
     "text": [
      "Min rmse on val: 2.45\n"
     ]
    }
   ],
   "source": [
    "# Q4\n",
    "print(\"Min rmse on val: 2.45\")"
   ]
  },
  {
   "cell_type": "code",
   "execution_count": 45,
   "metadata": {},
   "outputs": [
    {
     "name": "stdout",
     "output_type": "stream",
     "text": [
      "run id: 1f3a67f2b1da4a3bb7d524fe686ad4ae, rmse: 2.2855\n",
      "The closes one is: 2.185\n"
     ]
    }
   ],
   "source": [
    "# Q5\n",
    "\n",
    "EXPERIMENT_NAME = \"random-forest-best-models\"\n",
    "\n",
    "\n",
    "client = MlflowClient()\n",
    "\n",
    "\n",
    "\n",
    "experiment = client.get_experiment_by_name(EXPERIMENT_NAME)\n",
    "best_run = client.search_runs(experiment_ids=experiment.experiment_id,\n",
    "                              run_view_type=ViewType.ACTIVE_ONLY,\n",
    "                              order_by=[\"metrics.test_rmse ASC\"])\n",
    "\n",
    "print(f\"run id: {best_run[0].info.run_id}, rmse: {best_run[0].data.metrics['test_rmse']:.4f}\")\n",
    "print('The closes one is: 2.185')"
   ]
  },
  {
   "cell_type": "code",
   "execution_count": 47,
   "metadata": {},
   "outputs": [
    {
     "data": {
      "text/plain": [
       "[<RegisteredModel: aliases={}, creation_timestamp=1685227531577, description='', last_updated_timestamp=1685227531627, latest_versions=[<ModelVersion: aliases=[], creation_timestamp=1685227531627, current_stage='None', description='', last_updated_timestamp=1685227531627, name='random-forest-best-models', run_id='1f3a67f2b1da4a3bb7d524fe686ad4ae', run_link='', source='/home/isalimov/study/mlops-zoomcamp/02-experiment-tracking/homework/artifacts/2/1f3a67f2b1da4a3bb7d524fe686ad4ae/artifacts/model', status='READY', status_message='', tags={}, user_id='', version='1'>], name='random-forest-best-models', tags={}>]"
      ]
     },
     "execution_count": 47,
     "metadata": {},
     "output_type": "execute_result"
    }
   ],
   "source": [
    "# Q6 \n",
    "client.search_registered_models()"
   ]
  },
  {
   "cell_type": "code",
   "execution_count": null,
   "metadata": {},
   "outputs": [],
   "source": []
  }
 ],
 "metadata": {
  "kernelspec": {
   "display_name": "Python 3 (ipykernel)",
   "language": "python",
   "name": "python3"
  },
  "language_info": {
   "codemirror_mode": {
    "name": "ipython",
    "version": 3
   },
   "file_extension": ".py",
   "mimetype": "text/x-python",
   "name": "python",
   "nbconvert_exporter": "python",
   "pygments_lexer": "ipython3",
   "version": "3.9.12"
  }
 },
 "nbformat": 4,
 "nbformat_minor": 1
}
